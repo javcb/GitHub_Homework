{
 "cells": [
  {
   "cell_type": "code",
   "execution_count": 22,
   "metadata": {},
   "outputs": [
    {
     "name": "stdout",
     "output_type": "stream",
     "text": [
      "Election Results\n",
      "---------------------------------------------\n",
      "Total Votes: 3521001\n",
      "---------------------------------------------\n",
      "Khan: 63.00%---Votes: 2218231\n",
      "Correy: 20.00%---Votes: 704200\n",
      "Li: 14.00%---Votes: 492940\n",
      "O'Tooley: 3.00%---Votes: 105630\n",
      "---------------------------------------------\n",
      "Winner: Khan\n",
      "---------------------------------------------\n"
     ]
    }
   ],
   "source": [
    "import os\n",
    "import csv\n",
    "csvpath = os.path.join('C:/Users/jbenitez/Desktop/RutgersDataScience/Github_Homework', \"Homework_Python\" , \"election_data.csv\")\n",
    "\n",
    "#Reference: RUTJER201809DATA3/03-Python/Classwork/2/Activities/07-Ins_ReadCSV/Solved/read_csv.py\n",
    "with open(csvpath, newline='') as csvfile:\n",
    "    csvreader = csv.reader(csvfile, delimiter=',')  \n",
    "    csv_header=next(csvreader)\n",
    "    \n",
    "    #create list from csv: https://stackoverflow.com/questions/33733956/python-reading-specific-csv-column-into-list?rq=1\n",
    "    pypoll_vote = ([i[2] for i in csvreader])\n",
    "    pypoll_count = sum(1 for row in pypoll_vote)\n",
    "    \n",
    "    # Reference: https://www.youtube.com/watch?v=Yk-4CtINKiI\n",
    "    # Results perentage by candidate\n",
    "    pypoll_results_khan = format(pypoll_vote.count(\"Khan\") / len(pypoll_vote), \".2%\")\n",
    "    pypoll_results_correy = format(pypoll_vote.count(\"Correy\") / len(pypoll_vote), \".2%\")\n",
    "    pypoll_results_li = format(pypoll_vote.count(\"Li\") / len(pypoll_vote), \".2%\")\n",
    "    pypoll_results_otooley = format(pypoll_vote.count(\"O'Tooley\") / len(pypoll_vote), \".2%\")\n",
    "    \n",
    "    pypoll_results = [pypoll_results_khan, pypoll_results_correy, pypoll_results_li, pypoll_results_otooley]\n",
    "    # Ref: https://www.pythonforbeginners.com/dictionary/how-to-use-dictionaries-in-python/\n",
    "    # Ref: RUTJER201809DATA3/03-Python/Classwork/3/Activities/02-Ins_Dicts/Solved/dictionaries.py\n",
    "    # Create and use dictionary to store pairs\n",
    "    pypoll_dict = {pypoll_results_khan:\"Khan\", pypoll_results_correy:\"Correy\", pypoll_results_li:\"Li\", pypoll_results_otooley:\"O'Tooley\"}\n",
    "    \n",
    "    \n",
    "    print(\"Election Results\")\n",
    "    print(\"---------------------------------------------\")\n",
    "    print(\"Total Votes: \" + str(len(pypoll_vote)))\n",
    "    print(\"---------------------------------------------\")\n",
    "    print(\"Khan: \" + str(pypoll_results_khan) + \"---Votes: \" + str(pypoll_vote.count(\"Khan\")))\n",
    "    print(\"Correy: \" + str(pypoll_results_correy) + \"---Votes: \" + str(pypoll_vote.count(\"Correy\")))\n",
    "    print(\"Li: \" + str(pypoll_results_li) + \"---Votes: \" + str(pypoll_vote.count(\"Li\")))\n",
    "    print(\"O'Tooley: \" + str(pypoll_results_otooley) + \"---Votes: \" + str(pypoll_vote.count(\"O'Tooley\")))\n",
    "    print(\"---------------------------------------------\")\n",
    "    print(\"Winner: \" + pypoll_dict[max(pypoll_results)])\n",
    "    print(\"---------------------------------------------\")\n",
    "    \n",
    "    # Specify the file to write to\n",
    "    output_path = os.path.join('C:/Users/jbenitez/Desktop/RutgersDataScience/Github_Homework', \"Homework_Python\" , \"PyPollOutput_withoutpandas.txt\")\n",
    "\n",
    "    # Open the file using \"write\" mode. Specify the variable to hold the contents\n",
    "    with open(output_path, 'w', newline='') as txtfile:\n",
    "        # Initialize csv.writer\n",
    "        txtfile.write(str(\"Election Results\"))"
   ]
  },
  {
   "cell_type": "code",
   "execution_count": null,
   "metadata": {
    "scrolled": true
   },
   "outputs": [],
   "source": [
    "\n",
    "    "
   ]
  },
  {
   "cell_type": "code",
   "execution_count": null,
   "metadata": {},
   "outputs": [],
   "source": []
  },
  {
   "cell_type": "code",
   "execution_count": null,
   "metadata": {},
   "outputs": [],
   "source": []
  },
  {
   "cell_type": "code",
   "execution_count": null,
   "metadata": {},
   "outputs": [],
   "source": [
    "\n"
   ]
  },
  {
   "cell_type": "code",
   "execution_count": null,
   "metadata": {},
   "outputs": [],
   "source": []
  },
  {
   "cell_type": "code",
   "execution_count": null,
   "metadata": {},
   "outputs": [],
   "source": []
  }
 ],
 "metadata": {
  "kernelspec": {
   "display_name": "Python 3",
   "language": "python",
   "name": "python3"
  },
  "language_info": {
   "codemirror_mode": {
    "name": "ipython",
    "version": 3
   },
   "file_extension": ".py",
   "mimetype": "text/x-python",
   "name": "python",
   "nbconvert_exporter": "python",
   "pygments_lexer": "ipython3",
   "version": "3.7.0"
  }
 },
 "nbformat": 4,
 "nbformat_minor": 2
}
