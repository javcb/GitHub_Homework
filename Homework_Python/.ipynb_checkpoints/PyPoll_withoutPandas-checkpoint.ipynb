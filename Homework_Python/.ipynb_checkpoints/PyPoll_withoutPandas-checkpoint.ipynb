{
 "cells": [
  {
   "cell_type": "code",
   "execution_count": 4,
   "metadata": {},
   "outputs": [
    {
     "name": "stdout",
     "output_type": "stream",
     "text": [
      "Financial Analysis\n",
      "---------------------------------------------\n",
      "Total Months: 86\n",
      "Total: $38382578\n",
      "Average  Change: -2315.1176470588234\n",
      "Greatest Increase in Profits: 1926159\n",
      "Greatest Decrease in Profits: -2196167\n"
     ]
    }
   ],
   "source": [
    "import os\n",
    "import csv\n",
    "csvpath = os.path.join('C:/Users/jbenitez/Desktop/RutgersDataScience/Github_Homework', \"Homework_Python\" , \"budget_data.csv\")\n",
    "\n",
    "#Reference: RUTJER201809DATA3/03-Python/Classwork/2/Activities/07-Ins_ReadCSV/Solved/read_csv.py\n",
    "with open(csvpath, newline='') as csvfile:\n",
    "    csvreader = csv.reader(csvfile, delimiter=',')  \n",
    "    csv_header=next(csvreader)\n",
    "    \n",
    "    #create list from csv: https://stackoverflow.com/questions/33733956/python-reading-specific-csv-column-into-list?rq=1\n",
    "    #date = ([i[0] for i in csvreader])\n",
    "    pnl = ([i[1] for i in csvreader])\n",
    "    \n",
    "    # count of items in pnl list\n",
    "    pybank_count = sum(1 for row in pnl)\n",
    "    \n",
    "    #list comprehension to convert string to integers: https://stackoverflow.com/questions/7368789/convert-all-strings-in-a-list-to-int\n",
    "    pybank_pnl = [int(i) for i in pnl]\n",
    "\n",
    "    #calc change in list values: https://stackoverflow.com/questions/7172933/calculate-difference-between-adjacent-items-in-a-python-list\n",
    "    pybank_change = [pybank_pnl[i]-pybank_pnl[i-1] for i in range(1,len(pybank_pnl))]\n",
    "    \n",
    "    pybank_AvgChange = sum(pybank_change) / len(pybank_change)\n",
    "    pybank_MaxIncrease = max(pybank_change)\n",
    "    pybank_MaxDecrease = min(pybank_change)\n",
    "    \n",
    "    print(\"Financial Analysis\")\n",
    "    print(\"---------------------------------------------\")\n",
    "    print(\"Total Months: \" + str(len(pnl)))\n",
    "    print(\"Total: $\" + str(sum(pybank_pnl)))  \n",
    "    print(\"Average  Change: \" + str(pybank_AvgChange))\n",
    "    print(\"Greatest Increase in Profits: \" + str(pybank_MaxIncrease))\n",
    "    print(\"Greatest Decrease in Profits: \" + str(pybank_MaxDecrease))\n",
    "    \n",
    "\n",
    "# Specify the file to write to\n",
    "output_path = os.path.join('C:/Users/jbenitez/Desktop/RutgersDataScience/Github_Homework', \"Homework_Python\" , \"PyPollOutput_withoutpandas.txt\")\n",
    "# Open the file using \"write\" mode. Specify the variable to hold the contents\n",
    "with open(output_path, 'w', newline='') as txtfile:\n",
    "    # Initialize csv.writer\n",
    "    txtfile.write(str(\"Financial Analysis\"))"
   ]
  },
  {
   "cell_type": "code",
   "execution_count": 33,
   "metadata": {},
   "outputs": [
    {
     "name": "stdout",
     "output_type": "stream",
     "text": [
      "Election Results\n",
      "---------------------------------------------\n",
      "Total Votes: 3521001\n",
      "Vote Percentage: 1.0\n"
     ]
    },
    {
     "name": "stderr",
     "output_type": "stream",
     "text": [
      "IOPub data rate exceeded.\n",
      "The notebook server will temporarily stop sending output\n",
      "to the client in order to avoid crashing it.\n",
      "To change this limit, set the config variable\n",
      "`--NotebookApp.iopub_data_rate_limit`.\n",
      "\n",
      "Current values:\n",
      "NotebookApp.iopub_data_rate_limit=1000000.0 (bytes/sec)\n",
      "NotebookApp.rate_limit_window=3.0 (secs)\n",
      "\n"
     ]
    }
   ],
   "source": [
    "import os\n",
    "import csv\n",
    "csvpath = os.path.join('C:/Users/jbenitez/Desktop/RutgersDataScience/Github_Homework', \"Homework_Python\" , \"election_data.csv\")\n",
    "\n",
    "#Reference: RUTJER201809DATA3/03-Python/Classwork/2/Activities/07-Ins_ReadCSV/Solved/read_csv.py\n",
    "with open(csvpath, newline='') as csvfile:\n",
    "    csvreader = csv.reader(csvfile, delimiter=',')  \n",
    "    csv_header=next(csvreader)\n",
    "    \n",
    "    #create list from csv: https://stackoverflow.com/questions/33733956/python-reading-specific-csv-column-into-list?rq=1\n",
    "    pypoll_vote = ([i[0] for i in csvreader])\n",
    "    pypoll_candidate = ([i[2] for i in csvreader])\n",
    "    \n",
    "    # count of items in pnl list\n",
    "    pypoll_count = sum(1 for row in pypoll_vote)\n",
    "    \n",
    "    # set variable for percentage calc\n",
    "    pypoll_percent = pypoll_count / len(pypoll_vote)\n",
    "    \n",
    "    #pypoll_AvgChange = sum(pybank_change) / len(pybank_change)\n",
    "    #pypoll_MaxIncrease = max(pybank_change)\n",
    "    #pypoll_MaxDecrease = min(pybank_change)\n",
    "    \n",
    "    print(\"Election Results\")\n",
    "    print(\"---------------------------------------------\")\n",
    "    print(\"Total Votes: \" + str(len(pypoll_vote)))\n",
    "    print(\"Vote Percentage: \" + str(pypoll_percent))\n",
    "    #print(\"Total: $\" + str(sum(pybank_pnl)))  \n",
    "    #print(\"Average  Change: \" + str(pybank_AvgChange))\n",
    "    #print(\"Greatest Increase in Profits: \" + str(pybank_MaxIncrease))\n",
    "    #print(\"Greatest Decrease in Profits: \" + str(pybank_MaxDecrease))\n",
    "    "
   ]
  },
  {
   "cell_type": "code",
   "execution_count": 12,
   "metadata": {},
   "outputs": [
    {
     "name": "stdout",
     "output_type": "stream",
     "text": [
      "3521001\n"
     ]
    }
   ],
   "source": [
    "import os\n",
    "import csv\n",
    "csvpath = os.path.join('C:/Users/jbenitez/Desktop/RutgersDataScience/Github_Homework', \"Homework_Python\" , \"election_data.csv\")\n",
    "\n",
    "#Reference: RUTJER201809DATA3/03-Python/Classwork/2/Activities/07-Ins_ReadCSV/Solved/read_csv.py\n",
    "with open(csvpath, newline='') as csvfile:\n",
    "    csvreader = csv.reader(csvfile, delimiter=',')  \n",
    "    csv_header=next(csvreader)\n",
    "    \n",
    "    #create list from csv: https://stackoverflow.com/questions/33733956/python-reading-specific-csv-column-into-list?rq=1\n",
    "    pypoll_vote = ([i[0] for i in csvreader])\n",
    "    \n",
    "    # count of items in pnl list\n",
    "    pypoll_count = sum(1 for row in pypoll_vote)\n",
    "    print(pypoll_count)"
   ]
  },
  {
   "cell_type": "code",
   "execution_count": null,
   "metadata": {},
   "outputs": [],
   "source": []
  }
 ],
 "metadata": {
  "kernelspec": {
   "display_name": "Python 3",
   "language": "python",
   "name": "python3"
  },
  "language_info": {
   "codemirror_mode": {
    "name": "ipython",
    "version": 3
   },
   "file_extension": ".py",
   "mimetype": "text/x-python",
   "name": "python",
   "nbconvert_exporter": "python",
   "pygments_lexer": "ipython3",
   "version": "3.7.0"
  }
 },
 "nbformat": 4,
 "nbformat_minor": 2
}
