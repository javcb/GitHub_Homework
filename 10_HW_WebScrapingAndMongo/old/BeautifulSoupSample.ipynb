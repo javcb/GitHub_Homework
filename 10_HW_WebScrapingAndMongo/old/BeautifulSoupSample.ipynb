{
 "cells": [
  {
   "cell_type": "code",
   "execution_count": null,
   "metadata": {},
   "outputs": [],
   "source": [
    "#packages unable to install so far: shutil and xlswriter\n",
    "\n",
    "from bs4 import BeautifulSoup\n",
    "import requests\n",
    "from fake_useragent import UserAgent\n",
    "from flask import Flask, render_template\n",
    "\n",
    "ua = UserAgent()\n",
    "\n",
    "url = \"http://example.com/\"\n",
    "\n",
    "# Getting the webpage, creating a Response object.\n",
    "response = requests.get(url)\n",
    "\n",
    "# Extracting the source code of the page.\n",
    "data = response.text\n",
    "\n",
    "# Passing the source code to Beautiful Soup to create a BeautifulSoup object for it.\n",
    "soup = BeautifulSoup(data, 'html.parser')\n",
    "\n",
    "# Extracting all the <a> tags into a list.\n",
    "tags = soup.find_all('a')\n",
    "\n",
    "# Extracting URLs from the attribute href in the <a> tags.\n",
    "for tag in tags:\n",
    "    print(tag.get('href'))"
   ]
  },
  {
   "cell_type": "code",
   "execution_count": null,
   "metadata": {},
   "outputs": [],
   "source": [
    "print(response.headers)"
   ]
  },
  {
   "cell_type": "code",
   "execution_count": null,
   "metadata": {},
   "outputs": [],
   "source": [
    "#using fake user agent to get data to disguise that request is being sent from lines of code (i.e. imitating request from browser)\n",
    "header = {'user-agent': ua.chrome}\n",
    "page = requests.get('https://www.google.com', headers=header, timeout = 3)\n",
    "print(page.content)"
   ]
  },
  {
   "cell_type": "code",
   "execution_count": null,
   "metadata": {},
   "outputs": [],
   "source": [
    "#using beautifulsoup (parser used to parse html data (from html tags))\n",
    "\n",
    "def read_file():\n",
    "    file = open('intro-to-soup-html.html')\n",
    "    data = file.read()\n",
    "    file.close()\n",
    "    return data\n",
    "\n",
    "# Make soup\n",
    "# Syntax = BeautifulSoup(html_data,parser)\n",
    "# Our parser is lxml or html.parser which we have installed\n",
    "\n",
    "html_file = read_file()\n",
    "\n",
    "soup = BeautifulSoup(html_file,'lxml')# or for those who haven't installed lxml - BeautifulSoup(html_file,'html.parser')\n",
    "\n",
    "# soup prettify (prints html with correct indentation)\n",
    "\n",
    "print(soup.prettify())\n",
    "\n",
    "# identify tags"
   ]
  },
  {
   "cell_type": "code",
   "execution_count": null,
   "metadata": {},
   "outputs": [],
   "source": [
    "#make soup out of any website\n",
    "\n",
    "header = {'user-agent':ua.chrome}\n",
    "google_page = requests.get('https://www.google.com',headers=header)\n",
    "\n",
    "soup = BeautifulSoup(google_page.content,'lxml') # html.parser\n",
    "\n",
    "print(soup.prettify())\n",
    "\n",
    "\n",
    "#identify some tags\n",
    "meta = soup.meta\n",
    "print(meta['charset'])#charset gives you the value of the meta tag(s)"
   ]
  },
  {
   "cell_type": "code",
   "execution_count": 30,
   "metadata": {},
   "outputs": [
    {
     "ename": "KeyError",
     "evalue": "'style'",
     "output_type": "error",
     "traceback": [
      "\u001b[1;31m---------------------------------------------------------------------------\u001b[0m",
      "\u001b[1;31mKeyError\u001b[0m                                  Traceback (most recent call last)",
      "\u001b[1;32m<ipython-input-30-99ec20f117b1>\u001b[0m in \u001b[0;36m<module>\u001b[1;34m()\u001b[0m\n\u001b[0;32m      1\u001b[0m \u001b[1;31m#identify some tags\u001b[0m\u001b[1;33m\u001b[0m\u001b[1;33m\u001b[0m\u001b[0m\n\u001b[0;32m      2\u001b[0m \u001b[0mbody\u001b[0m \u001b[1;33m=\u001b[0m \u001b[0msoup\u001b[0m\u001b[1;33m.\u001b[0m\u001b[0mbody\u001b[0m\u001b[1;33m\u001b[0m\u001b[0m\n\u001b[1;32m----> 3\u001b[1;33m \u001b[0mprint\u001b[0m\u001b[1;33m(\u001b[0m\u001b[0mbody\u001b[0m\u001b[1;33m[\u001b[0m\u001b[1;34m'style'\u001b[0m\u001b[1;33m]\u001b[0m\u001b[1;33m)\u001b[0m\u001b[1;33m\u001b[0m\u001b[0m\n\u001b[0m",
      "\u001b[1;32m~\\Anaconda3\\lib\\site-packages\\bs4\\element.py\u001b[0m in \u001b[0;36m__getitem__\u001b[1;34m(self, key)\u001b[0m\n\u001b[0;32m   1069\u001b[0m         \"\"\"tag[key] returns the value of the 'key' attribute for the tag,\n\u001b[0;32m   1070\u001b[0m         and throws an exception if it's not there.\"\"\"\n\u001b[1;32m-> 1071\u001b[1;33m         \u001b[1;32mreturn\u001b[0m \u001b[0mself\u001b[0m\u001b[1;33m.\u001b[0m\u001b[0mattrs\u001b[0m\u001b[1;33m[\u001b[0m\u001b[0mkey\u001b[0m\u001b[1;33m]\u001b[0m\u001b[1;33m\u001b[0m\u001b[0m\n\u001b[0m\u001b[0;32m   1072\u001b[0m \u001b[1;33m\u001b[0m\u001b[0m\n\u001b[0;32m   1073\u001b[0m     \u001b[1;32mdef\u001b[0m \u001b[0m__iter__\u001b[0m\u001b[1;33m(\u001b[0m\u001b[0mself\u001b[0m\u001b[1;33m)\u001b[0m\u001b[1;33m:\u001b[0m\u001b[1;33m\u001b[0m\u001b[0m\n",
      "\u001b[1;31mKeyError\u001b[0m: 'style'"
     ]
    }
   ],
   "source": [
    "#identify some tags\n",
    "body = soup.body\n",
    "print(body['style'])"
   ]
  },
  {
   "cell_type": "code",
   "execution_count": null,
   "metadata": {},
   "outputs": [
    {
     "name": "stdout",
     "output_type": "stream",
     "text": [
      " * Serving Flask app \"__main__\" (lazy loading)\n",
      " * Environment: production\n",
      "   WARNING: Do not use the development server in a production environment.\n",
      "   Use a production WSGI server instead.\n",
      " * Debug mode: off\n"
     ]
    },
    {
     "name": "stderr",
     "output_type": "stream",
     "text": [
      " * Running on http://127.0.0.1:5000/ (Press CTRL+C to quit)\n",
      "127.0.0.1 - - [30/Dec/2018 09:58:22] \"GET / HTTP/1.1\" 200 -\n",
      "127.0.0.1 - - [30/Dec/2018 09:58:22] \"GET /favicon.ico HTTP/1.1\" 404 -\n",
      "127.0.0.1 - - [30/Dec/2018 12:40:18] \"GET / HTTP/1.1\" 200 -\n",
      "127.0.0.1 - - [30/Dec/2018 12:44:13] \"GET /scrape HTTP/1.1\" 404 -\n",
      "127.0.0.1 - - [30/Dec/2018 12:44:44] \"GET / HTTP/1.1\" 200 -\n",
      "127.0.0.1 - - [30/Dec/2018 12:44:45] \"GET / HTTP/1.1\" 200 -\n",
      "127.0.0.1 - - [30/Dec/2018 12:44:45] \"GET / HTTP/1.1\" 200 -\n",
      "127.0.0.1 - - [30/Dec/2018 12:45:58] \"GET /scrape HTTP/1.1\" 404 -\n",
      "127.0.0.1 - - [30/Dec/2018 12:48:31] \"GET / HTTP/1.1\" 200 -\n",
      "127.0.0.1 - - [30/Dec/2018 12:48:53] \"GET / HTTP/1.1\" 200 -\n",
      "127.0.0.1 - - [30/Dec/2018 12:50:00] \"GET / HTTP/1.1\" 200 -\n",
      "127.0.0.1 - - [30/Dec/2018 12:51:33] \"GET / HTTP/1.1\" 200 -\n",
      "127.0.0.1 - - [30/Dec/2018 12:54:57] \"GET / HTTP/1.1\" 200 -\n",
      "127.0.0.1 - - [30/Dec/2018 12:55:05] \"GET / HTTP/1.1\" 200 -\n",
      "127.0.0.1 - - [30/Dec/2018 13:08:02] \"GET / HTTP/1.1\" 200 -\n",
      "127.0.0.1 - - [30/Dec/2018 13:12:31] \"GET / HTTP/1.1\" 200 -\n",
      "127.0.0.1 - - [30/Dec/2018 20:59:13] \"GET / HTTP/1.1\" 200 -\n",
      "127.0.0.1 - - [30/Dec/2018 21:01:23] \"GET / HTTP/1.1\" 200 -\n"
     ]
    }
   ],
   "source": [
    "# running flask\n",
    "app = Flask(__name__)\n",
    "\n",
    "@app.route('/')\n",
    "\n",
    "def hello_world():\n",
    "    return \"Hello World!\"\n",
    "\n",
    "if __name__==\"__main__\":\n",
    "    app.run()"
   ]
  },
  {
   "cell_type": "code",
   "execution_count": null,
   "metadata": {},
   "outputs": [],
   "source": []
  }
 ],
 "metadata": {
  "kernelspec": {
   "display_name": "Python 3",
   "language": "python",
   "name": "python3"
  },
  "language_info": {
   "codemirror_mode": {
    "name": "ipython",
    "version": 3
   },
   "file_extension": ".py",
   "mimetype": "text/x-python",
   "name": "python",
   "nbconvert_exporter": "python",
   "pygments_lexer": "ipython3",
   "version": "3.7.0"
  }
 },
 "nbformat": 4,
 "nbformat_minor": 2
}
