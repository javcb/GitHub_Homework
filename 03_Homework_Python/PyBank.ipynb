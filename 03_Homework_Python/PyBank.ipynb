{
 "cells": [
  {
   "cell_type": "code",
   "execution_count": 1,
   "metadata": {},
   "outputs": [
    {
     "data": {
      "text/html": [
       "<div>\n",
       "<style scoped>\n",
       "    .dataframe tbody tr th:only-of-type {\n",
       "        vertical-align: middle;\n",
       "    }\n",
       "\n",
       "    .dataframe tbody tr th {\n",
       "        vertical-align: top;\n",
       "    }\n",
       "\n",
       "    .dataframe thead th {\n",
       "        text-align: right;\n",
       "    }\n",
       "</style>\n",
       "<table border=\"1\" class=\"dataframe\">\n",
       "  <thead>\n",
       "    <tr style=\"text-align: right;\">\n",
       "      <th></th>\n",
       "      <th>Date</th>\n",
       "      <th>Profit/Losses</th>\n",
       "    </tr>\n",
       "  </thead>\n",
       "  <tbody>\n",
       "    <tr>\n",
       "      <th>0</th>\n",
       "      <td>Jan-2010</td>\n",
       "      <td>867884</td>\n",
       "    </tr>\n",
       "    <tr>\n",
       "      <th>1</th>\n",
       "      <td>Feb-2010</td>\n",
       "      <td>984655</td>\n",
       "    </tr>\n",
       "    <tr>\n",
       "      <th>2</th>\n",
       "      <td>Mar-2010</td>\n",
       "      <td>322013</td>\n",
       "    </tr>\n",
       "    <tr>\n",
       "      <th>3</th>\n",
       "      <td>Apr-2010</td>\n",
       "      <td>-69417</td>\n",
       "    </tr>\n",
       "    <tr>\n",
       "      <th>4</th>\n",
       "      <td>May-2010</td>\n",
       "      <td>310503</td>\n",
       "    </tr>\n",
       "  </tbody>\n",
       "</table>\n",
       "</div>"
      ],
      "text/plain": [
       "       Date  Profit/Losses\n",
       "0  Jan-2010         867884\n",
       "1  Feb-2010         984655\n",
       "2  Mar-2010         322013\n",
       "3  Apr-2010         -69417\n",
       "4  May-2010         310503"
      ]
     },
     "execution_count": 1,
     "metadata": {},
     "output_type": "execute_result"
    }
   ],
   "source": [
    "# Example file: 04-Pandas/Classwork/1/Activities/09-Ins_ReadingWritingCSV/Solved/pandas_reading_files.ipynb\n",
    "import pandas as pd\n",
    "budget_data = \"budget_data.csv\"\n",
    "# read csv\n",
    "budget_data_df = pd.read_csv(budget_data)\n",
    "\n",
    "# Show just the header\n",
    "budget_data_df.head()"
   ]
  },
  {
   "cell_type": "code",
   "execution_count": 2,
   "metadata": {},
   "outputs": [
    {
     "data": {
      "text/html": [
       "<div>\n",
       "<style scoped>\n",
       "    .dataframe tbody tr th:only-of-type {\n",
       "        vertical-align: middle;\n",
       "    }\n",
       "\n",
       "    .dataframe tbody tr th {\n",
       "        vertical-align: top;\n",
       "    }\n",
       "\n",
       "    .dataframe thead th {\n",
       "        text-align: right;\n",
       "    }\n",
       "</style>\n",
       "<table border=\"1\" class=\"dataframe\">\n",
       "  <thead>\n",
       "    <tr style=\"text-align: right;\">\n",
       "      <th></th>\n",
       "      <th>Profit/Losses</th>\n",
       "    </tr>\n",
       "  </thead>\n",
       "  <tbody>\n",
       "    <tr>\n",
       "      <th>count</th>\n",
       "      <td>8.600000e+01</td>\n",
       "    </tr>\n",
       "    <tr>\n",
       "      <th>mean</th>\n",
       "      <td>4.463090e+05</td>\n",
       "    </tr>\n",
       "    <tr>\n",
       "      <th>std</th>\n",
       "      <td>5.363579e+05</td>\n",
       "    </tr>\n",
       "    <tr>\n",
       "      <th>min</th>\n",
       "      <td>-1.196225e+06</td>\n",
       "    </tr>\n",
       "    <tr>\n",
       "      <th>25%</th>\n",
       "      <td>1.821620e+05</td>\n",
       "    </tr>\n",
       "    <tr>\n",
       "      <th>50%</th>\n",
       "      <td>5.703280e+05</td>\n",
       "    </tr>\n",
       "    <tr>\n",
       "      <th>75%</th>\n",
       "      <td>7.952262e+05</td>\n",
       "    </tr>\n",
       "    <tr>\n",
       "      <th>max</th>\n",
       "      <td>1.170593e+06</td>\n",
       "    </tr>\n",
       "  </tbody>\n",
       "</table>\n",
       "</div>"
      ],
      "text/plain": [
       "       Profit/Losses\n",
       "count   8.600000e+01\n",
       "mean    4.463090e+05\n",
       "std     5.363579e+05\n",
       "min    -1.196225e+06\n",
       "25%     1.821620e+05\n",
       "50%     5.703280e+05\n",
       "75%     7.952262e+05\n",
       "max     1.170593e+06"
      ]
     },
     "execution_count": 2,
     "metadata": {},
     "output_type": "execute_result"
    }
   ],
   "source": [
    "budget_data_df.describe()"
   ]
  },
  {
   "cell_type": "code",
   "execution_count": 3,
   "metadata": {},
   "outputs": [
    {
     "name": "stdout",
     "output_type": "stream",
     "text": [
      "Financial Analysis\n",
      "---------------------------------------------\n",
      "Total Months: 86\n",
      "Total: $38382578\n",
      "Average  Change: -2315.1176470588234\n",
      "Greatest Increase in Profits: 1926159.0\n",
      "Greatest Decrease in Profits: -2196167.0\n"
     ]
    }
   ],
   "source": [
    "total = budget_data_df[\"Profit/Losses\"].sum()\n",
    "total_rows = budget_data_df.count(axis='columns')\n",
    "\n",
    "print(\"Financial Analysis\")\n",
    "print(\"---------------------------------------------\")\n",
    "print(\"Total Months: \" + str(len(total_rows)))\n",
    "print(\"Total: $\" + str(total))\n",
    "\n",
    "budget_data_df['shifted_column'] = budget_data_df['Profit/Losses'].shift(1)\n",
    "budget_data_df['difference'] = budget_data_df['Profit/Losses'] - budget_data_df['shifted_column']\n",
    "budget_data_df['difference'] = budget_data_df['difference']\n",
    "\n",
    "average = budget_data_df['difference'].mean()\n",
    "maximum = budget_data_df['difference'].max()\n",
    "minimum = budget_data_df['difference'].min()\n",
    "\n",
    "print(\"Average  Change: \" + str(average))\n",
    "print(\"Greatest Increase in Profits: \" + str(maximum))\n",
    "print(\"Greatest Decrease in Profits: \" + str(minimum))"
   ]
  },
  {
   "cell_type": "code",
   "execution_count": 4,
   "metadata": {},
   "outputs": [],
   "source": [
    "# Dependencies\n",
    "import os\n",
    "\n",
    "# Specify the file to write to\n",
    "output_path = os.path.join('C:/Users/jbenitez/Desktop/RutgersDataScience/Github_Homework', \"Homework_Python\" , \"PyBankOutput.txt\")\n",
    "\n",
    "# Open the file using \"write\" mode. Specify the variable to hold the contents\n",
    "with open(output_path, 'w', newline='') as txtfile:\n",
    "\n",
    "    # Initialize csv.writer\n",
    "    txtfile.write(str(average))\n"
   ]
  },
  {
   "cell_type": "code",
   "execution_count": 6,
   "metadata": {},
   "outputs": [
    {
     "ename": "SyntaxError",
     "evalue": "invalid syntax (<ipython-input-6-aaf9abc4b29c>, line 17)",
     "output_type": "error",
     "traceback": [
      "\u001b[1;36m  File \u001b[1;32m\"<ipython-input-6-aaf9abc4b29c>\"\u001b[1;36m, line \u001b[1;32m17\u001b[0m\n\u001b[1;33m    results =\u001b[0m\n\u001b[1;37m              ^\u001b[0m\n\u001b[1;31mSyntaxError\u001b[0m\u001b[1;31m:\u001b[0m invalid syntax\n"
     ]
    }
   ],
   "source": [
    "total = budget_data_df[\"Profit/Losses\"].sum()\n",
    "total_rows = budget_data_df.count(axis='columns')\n",
    "\n",
    "print(\"Financial Analysis\")\n",
    "print(\"---------------------------------------------\")\n",
    "print(\"Total Months: \" + str(len(total_rows)))\n",
    "print(\"Total: $\" + str(total))\n",
    "\n",
    "budget_data_df['shifted_column'] = budget_data_df['Profit/Losses'].shift(1)\n",
    "budget_data_df['difference'] = budget_data_df['Profit/Losses'] - budget_data_df['shifted_column']\n",
    "budget_data_df['difference'] = budget_data_df['difference']\n",
    "\n",
    "average = budget_data_df['difference'].mean()\n",
    "maximum = budget_data_df['difference'].max()\n",
    "minimum = budget_data_df['difference'].min()\n",
    "\n",
    "results = \n",
    "    \"Average  Change: \" + str(average)\n",
    "    \"Greatest Increase in Profits: \" + str(maximum)\n",
    "    \"Greatest Decrease in Profits: \" + str(minimum)"
   ]
  },
  {
   "cell_type": "code",
   "execution_count": null,
   "metadata": {},
   "outputs": [],
   "source": []
  },
  {
   "cell_type": "code",
   "execution_count": null,
   "metadata": {},
   "outputs": [],
   "source": []
  },
  {
   "cell_type": "code",
   "execution_count": null,
   "metadata": {},
   "outputs": [],
   "source": []
  },
  {
   "cell_type": "code",
   "execution_count": null,
   "metadata": {},
   "outputs": [],
   "source": []
  }
 ],
 "metadata": {
  "kernelspec": {
   "display_name": "Python 3",
   "language": "python",
   "name": "python3"
  },
  "language_info": {
   "codemirror_mode": {
    "name": "ipython",
    "version": 3
   },
   "file_extension": ".py",
   "mimetype": "text/x-python",
   "name": "python",
   "nbconvert_exporter": "python",
   "pygments_lexer": "ipython3",
   "version": "3.7.0"
  }
 },
 "nbformat": 4,
 "nbformat_minor": 2
}
